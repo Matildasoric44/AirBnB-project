{
  "nbformat": 4,
  "nbformat_minor": 0,
  "metadata": {
    "colab": {
      "provenance": []
    },
    "kernelspec": {
      "name": "ir",
      "display_name": "R"
    },
    "language_info": {
      "name": "R"
    }
  },
  "cells": [
    {
      "cell_type": "markdown",
      "source": [
        "#AirBnB Project"
      ],
      "metadata": {
        "id": "KaYYhtYP5FET"
      }
    },
    {
      "cell_type": "markdown",
      "source": [
        "##Loading the libraries"
      ],
      "metadata": {
        "id": "EiJIQukN5NPy"
      }
    },
    {
      "cell_type": "code",
      "source": [
        "library(dplyr)\n",
        "library(tidyr)\n",
        "library(ggplot2)\n",
        "library(data.table)"
      ],
      "metadata": {
        "id": "63r9y79aFOPb",
        "colab": {
          "base_uri": "https://localhost:8080/"
        },
        "outputId": "3164bcf3-207f-4e6a-a1fb-b153134642b3"
      },
      "execution_count": null,
      "outputs": [
        {
          "output_type": "stream",
          "name": "stderr",
          "text": [
            "\n",
            "Attaching package: ‘dplyr’\n",
            "\n",
            "\n",
            "The following objects are masked from ‘package:stats’:\n",
            "\n",
            "    filter, lag\n",
            "\n",
            "\n",
            "The following objects are masked from ‘package:base’:\n",
            "\n",
            "    intersect, setdiff, setequal, union\n",
            "\n",
            "\n"
          ]
        }
      ]
    },
    {
      "cell_type": "markdown",
      "source": [
        "##Loading the data and looking at the first few rows\n"
      ],
      "metadata": {
        "id": "kIV0fjMt5RoC"
      }
    },
    {
      "cell_type": "code",
      "execution_count": null,
      "metadata": {
        "colab": {
          "base_uri": "https://localhost:8080/",
          "height": 1000
        },
        "id": "uvR6NaWRWKH2",
        "outputId": "b29fe932-aaba-4c8f-a42f-1061d29885cd"
      },
      "outputs": [
        {
          "output_type": "display_data",
          "data": {
            "text/html": [
              "<table class=\"dataframe\">\n",
              "<caption>A data.frame: 6 × 26</caption>\n",
              "<thead>\n",
              "\t<tr><th></th><th scope=col>id</th><th scope=col>NAME</th><th scope=col>host.id</th><th scope=col>host_identity_verified</th><th scope=col>host.name</th><th scope=col>neighbourhood.group</th><th scope=col>neighbourhood</th><th scope=col>lat</th><th scope=col>long</th><th scope=col>country</th><th scope=col>⋯</th><th scope=col>service.fee</th><th scope=col>minimum.nights</th><th scope=col>number.of.reviews</th><th scope=col>last.review</th><th scope=col>reviews.per.month</th><th scope=col>review.rate.number</th><th scope=col>calculated.host.listings.count</th><th scope=col>availability.365</th><th scope=col>house_rules</th><th scope=col>license</th></tr>\n",
              "\t<tr><th></th><th scope=col>&lt;int&gt;</th><th scope=col>&lt;chr&gt;</th><th scope=col>&lt;dbl&gt;</th><th scope=col>&lt;chr&gt;</th><th scope=col>&lt;chr&gt;</th><th scope=col>&lt;chr&gt;</th><th scope=col>&lt;chr&gt;</th><th scope=col>&lt;dbl&gt;</th><th scope=col>&lt;dbl&gt;</th><th scope=col>&lt;chr&gt;</th><th scope=col>⋯</th><th scope=col>&lt;chr&gt;</th><th scope=col>&lt;int&gt;</th><th scope=col>&lt;int&gt;</th><th scope=col>&lt;chr&gt;</th><th scope=col>&lt;dbl&gt;</th><th scope=col>&lt;int&gt;</th><th scope=col>&lt;int&gt;</th><th scope=col>&lt;int&gt;</th><th scope=col>&lt;chr&gt;</th><th scope=col>&lt;chr&gt;</th></tr>\n",
              "</thead>\n",
              "<tbody>\n",
              "\t<tr><th scope=row>1</th><td>1001254</td><td><span style=white-space:pre-wrap>Clean &amp; quiet apt home by the park              </span></td><td>80014485718</td><td>unconfirmed</td><td>Madaline</td><td>Brooklyn </td><td><span style=white-space:pre-wrap>Kensington  </span></td><td>40.64749</td><td>-73.97237</td><td>United States</td><td>⋯</td><td>$193 </td><td>10</td><td><span style=white-space:pre-wrap>  9</span></td><td>10/19/2021</td><td>0.21</td><td>4</td><td>6</td><td>286</td><td><span style=white-space:pre-wrap>Clean up and treat the home the way you'd like your home to be treated.  No smoking.                                                                                                                                                                                                                                                                                                                               </span></td><td></td></tr>\n",
              "\t<tr><th scope=row>2</th><td>1002102</td><td>Skylit Midtown Castle                           </td><td>52335172823</td><td>verified   </td><td>Jenna   </td><td>Manhattan</td><td>Midtown     </td><td>40.75362</td><td>-73.98377</td><td>United States</td><td>⋯</td><td>$28  </td><td>30</td><td> 45</td><td>5/21/2022 </td><td>0.38</td><td>4</td><td>2</td><td>228</td><td>Pet friendly but please confirm with me if the pet you are planning on bringing with you is OK. I have a cute and quiet mixed chihuahua. I could accept more guests (for an extra fee) but this also needs to be confirmed beforehand. Also friends traveling together could sleep in separate beds for an extra fee (the second bed is either a sofa bed or inflatable bed). Smoking is only allowed on the porch.</td><td></td></tr>\n",
              "\t<tr><th scope=row>3</th><td>1002403</td><td>THE VILLAGE OF HARLEM....NEW YORK !             </td><td>78829239556</td><td>           </td><td>Elise   </td><td>Manhattan</td><td>Harlem      </td><td>40.80902</td><td>-73.94190</td><td>United States</td><td>⋯</td><td>$124 </td><td> 3</td><td>  0</td><td>          </td><td>  NA</td><td>5</td><td>1</td><td>352</td><td>I encourage you to use my kitchen, cooking and laundry facilities. There is no additional charge to use the washer/dryer in the basement.  No smoking, inside or outside. Come home as late as you want.  If you come home stumbling drunk, it's OK the first time. If you do it again, and you wake up me or the neighbors downstairs, we will be annoyed.  (Just so you know . . . )                             </td><td></td></tr>\n",
              "\t<tr><th scope=row>4</th><td>1002755</td><td>                                                </td><td>85098326012</td><td>unconfirmed</td><td>Garry   </td><td>Brooklyn </td><td>Clinton Hill</td><td>40.68514</td><td>-73.95976</td><td>United States</td><td>⋯</td><td>$74  </td><td>30</td><td>270</td><td>7/5/2019  </td><td>4.64</td><td>4</td><td>1</td><td>322</td><td>                                                                                                                                                                                                                                                                                                                                                                                                                   </td><td></td></tr>\n",
              "\t<tr><th scope=row>5</th><td>1003689</td><td>Entire Apt: Spacious Studio/Loft by central park</td><td>92037596077</td><td>verified   </td><td>Lyndon  </td><td>Manhattan</td><td>East Harlem </td><td>40.79851</td><td>-73.94399</td><td>United States</td><td>⋯</td><td>$41  </td><td>10</td><td>  9</td><td>11/19/2018</td><td>0.10</td><td>3</td><td>1</td><td>289</td><td>Please no smoking in the house, porch or on the property (you can go to the nearby corner).  Reasonable quiet after 10:30 pm.  Please remove shoes in the house.                                                                                                                                                                                                                                                   </td><td></td></tr>\n",
              "\t<tr><th scope=row>6</th><td>1004098</td><td>Large Cozy 1 BR Apartment In Midtown East       </td><td>45498551794</td><td>verified   </td><td>Michelle</td><td>Manhattan</td><td>Murray Hill </td><td>40.74767</td><td>-73.97500</td><td>United States</td><td>⋯</td><td>$115 </td><td> 3</td><td> 74</td><td>6/22/2019 </td><td>0.59</td><td>3</td><td>1</td><td>374</td><td>No smoking, please, and no drugs.                                                                                                                                                                                                                                                                                                                                                                                  </td><td></td></tr>\n",
              "</tbody>\n",
              "</table>\n"
            ],
            "text/markdown": "\nA data.frame: 6 × 26\n\n| <!--/--> | id &lt;int&gt; | NAME &lt;chr&gt; | host.id &lt;dbl&gt; | host_identity_verified &lt;chr&gt; | host.name &lt;chr&gt; | neighbourhood.group &lt;chr&gt; | neighbourhood &lt;chr&gt; | lat &lt;dbl&gt; | long &lt;dbl&gt; | country &lt;chr&gt; | ⋯ ⋯ | service.fee &lt;chr&gt; | minimum.nights &lt;int&gt; | number.of.reviews &lt;int&gt; | last.review &lt;chr&gt; | reviews.per.month &lt;dbl&gt; | review.rate.number &lt;int&gt; | calculated.host.listings.count &lt;int&gt; | availability.365 &lt;int&gt; | house_rules &lt;chr&gt; | license &lt;chr&gt; |\n|---|---|---|---|---|---|---|---|---|---|---|---|---|---|---|---|---|---|---|---|---|---|\n| 1 | 1001254 | Clean &amp; quiet apt home by the park               | 80014485718 | unconfirmed | Madaline | Brooklyn  | Kensington   | 40.64749 | -73.97237 | United States | ⋯ | $193  | 10 |   9 | 10/19/2021 | 0.21 | 4 | 6 | 286 | Clean up and treat the home the way you'd like your home to be treated.  No smoking.                                                                                                                                                                                                                                                                                                                                | <!----> |\n| 2 | 1002102 | Skylit Midtown Castle                            | 52335172823 | verified    | Jenna    | Manhattan | Midtown      | 40.75362 | -73.98377 | United States | ⋯ | $28   | 30 |  45 | 5/21/2022  | 0.38 | 4 | 2 | 228 | Pet friendly but please confirm with me if the pet you are planning on bringing with you is OK. I have a cute and quiet mixed chihuahua. I could accept more guests (for an extra fee) but this also needs to be confirmed beforehand. Also friends traveling together could sleep in separate beds for an extra fee (the second bed is either a sofa bed or inflatable bed). Smoking is only allowed on the porch. | <!----> |\n| 3 | 1002403 | THE VILLAGE OF HARLEM....NEW YORK !              | 78829239556 | <!----> | Elise    | Manhattan | Harlem       | 40.80902 | -73.94190 | United States | ⋯ | $124  |  3 |   0 | <!----> |   NA | 5 | 1 | 352 | I encourage you to use my kitchen, cooking and laundry facilities. There is no additional charge to use the washer/dryer in the basement.  No smoking, inside or outside. Come home as late as you want.  If you come home stumbling drunk, it's OK the first time. If you do it again, and you wake up me or the neighbors downstairs, we will be annoyed.  (Just so you know . . . )                              | <!----> |\n| 4 | 1002755 | <!----> | 85098326012 | unconfirmed | Garry    | Brooklyn  | Clinton Hill | 40.68514 | -73.95976 | United States | ⋯ | $74   | 30 | 270 | 7/5/2019   | 4.64 | 4 | 1 | 322 | <!----> | <!----> |\n| 5 | 1003689 | Entire Apt: Spacious Studio/Loft by central park | 92037596077 | verified    | Lyndon   | Manhattan | East Harlem  | 40.79851 | -73.94399 | United States | ⋯ | $41   | 10 |   9 | 11/19/2018 | 0.10 | 3 | 1 | 289 | Please no smoking in the house, porch or on the property (you can go to the nearby corner).  Reasonable quiet after 10:30 pm.  Please remove shoes in the house.                                                                                                                                                                                                                                                    | <!----> |\n| 6 | 1004098 | Large Cozy 1 BR Apartment In Midtown East        | 45498551794 | verified    | Michelle | Manhattan | Murray Hill  | 40.74767 | -73.97500 | United States | ⋯ | $115  |  3 |  74 | 6/22/2019  | 0.59 | 3 | 1 | 374 | No smoking, please, and no drugs.                                                                                                                                                                                                                                                                                                                                                                                   | <!----> |\n\n",
            "text/latex": "A data.frame: 6 × 26\n\\begin{tabular}{r|lllllllllllllllllllll}\n  & id & NAME & host.id & host\\_identity\\_verified & host.name & neighbourhood.group & neighbourhood & lat & long & country & ⋯ & service.fee & minimum.nights & number.of.reviews & last.review & reviews.per.month & review.rate.number & calculated.host.listings.count & availability.365 & house\\_rules & license\\\\\n  & <int> & <chr> & <dbl> & <chr> & <chr> & <chr> & <chr> & <dbl> & <dbl> & <chr> & ⋯ & <chr> & <int> & <int> & <chr> & <dbl> & <int> & <int> & <int> & <chr> & <chr>\\\\\n\\hline\n\t1 & 1001254 & Clean \\& quiet apt home by the park               & 80014485718 & unconfirmed & Madaline & Brooklyn  & Kensington   & 40.64749 & -73.97237 & United States & ⋯ & \\$193  & 10 &   9 & 10/19/2021 & 0.21 & 4 & 6 & 286 & Clean up and treat the home the way you'd like your home to be treated.  No smoking.                                                                                                                                                                                                                                                                                                                                & \\\\\n\t2 & 1002102 & Skylit Midtown Castle                            & 52335172823 & verified    & Jenna    & Manhattan & Midtown      & 40.75362 & -73.98377 & United States & ⋯ & \\$28   & 30 &  45 & 5/21/2022  & 0.38 & 4 & 2 & 228 & Pet friendly but please confirm with me if the pet you are planning on bringing with you is OK. I have a cute and quiet mixed chihuahua. I could accept more guests (for an extra fee) but this also needs to be confirmed beforehand. Also friends traveling together could sleep in separate beds for an extra fee (the second bed is either a sofa bed or inflatable bed). Smoking is only allowed on the porch. & \\\\\n\t3 & 1002403 & THE VILLAGE OF HARLEM....NEW YORK !              & 78829239556 &             & Elise    & Manhattan & Harlem       & 40.80902 & -73.94190 & United States & ⋯ & \\$124  &  3 &   0 &            &   NA & 5 & 1 & 352 & I encourage you to use my kitchen, cooking and laundry facilities. There is no additional charge to use the washer/dryer in the basement.  No smoking, inside or outside. Come home as late as you want.  If you come home stumbling drunk, it's OK the first time. If you do it again, and you wake up me or the neighbors downstairs, we will be annoyed.  (Just so you know . . . )                              & \\\\\n\t4 & 1002755 &                                                  & 85098326012 & unconfirmed & Garry    & Brooklyn  & Clinton Hill & 40.68514 & -73.95976 & United States & ⋯ & \\$74   & 30 & 270 & 7/5/2019   & 4.64 & 4 & 1 & 322 &                                                                                                                                                                                                                                                                                                                                                                                                                     & \\\\\n\t5 & 1003689 & Entire Apt: Spacious Studio/Loft by central park & 92037596077 & verified    & Lyndon   & Manhattan & East Harlem  & 40.79851 & -73.94399 & United States & ⋯ & \\$41   & 10 &   9 & 11/19/2018 & 0.10 & 3 & 1 & 289 & Please no smoking in the house, porch or on the property (you can go to the nearby corner).  Reasonable quiet after 10:30 pm.  Please remove shoes in the house.                                                                                                                                                                                                                                                    & \\\\\n\t6 & 1004098 & Large Cozy 1 BR Apartment In Midtown East        & 45498551794 & verified    & Michelle & Manhattan & Murray Hill  & 40.74767 & -73.97500 & United States & ⋯ & \\$115  &  3 &  74 & 6/22/2019  & 0.59 & 3 & 1 & 374 & No smoking, please, and no drugs.                                                                                                                                                                                                                                                                                                                                                                                   & \\\\\n\\end{tabular}\n",
            "text/plain": [
              "  id      NAME                                             host.id    \n",
              "1 1001254 Clean & quiet apt home by the park               80014485718\n",
              "2 1002102 Skylit Midtown Castle                            52335172823\n",
              "3 1002403 THE VILLAGE OF HARLEM....NEW YORK !              78829239556\n",
              "4 1002755                                                  85098326012\n",
              "5 1003689 Entire Apt: Spacious Studio/Loft by central park 92037596077\n",
              "6 1004098 Large Cozy 1 BR Apartment In Midtown East        45498551794\n",
              "  host_identity_verified host.name neighbourhood.group neighbourhood lat     \n",
              "1 unconfirmed            Madaline  Brooklyn            Kensington    40.64749\n",
              "2 verified               Jenna     Manhattan           Midtown       40.75362\n",
              "3                        Elise     Manhattan           Harlem        40.80902\n",
              "4 unconfirmed            Garry     Brooklyn            Clinton Hill  40.68514\n",
              "5 verified               Lyndon    Manhattan           East Harlem   40.79851\n",
              "6 verified               Michelle  Manhattan           Murray Hill   40.74767\n",
              "  long      country       ⋯ service.fee minimum.nights number.of.reviews\n",
              "1 -73.97237 United States ⋯ $193        10               9              \n",
              "2 -73.98377 United States ⋯ $28         30              45              \n",
              "3 -73.94190 United States ⋯ $124         3               0              \n",
              "4 -73.95976 United States ⋯ $74         30             270              \n",
              "5 -73.94399 United States ⋯ $41         10               9              \n",
              "6 -73.97500 United States ⋯ $115         3              74              \n",
              "  last.review reviews.per.month review.rate.number\n",
              "1 10/19/2021  0.21              4                 \n",
              "2 5/21/2022   0.38              4                 \n",
              "3               NA              5                 \n",
              "4 7/5/2019    4.64              4                 \n",
              "5 11/19/2018  0.10              3                 \n",
              "6 6/22/2019   0.59              3                 \n",
              "  calculated.host.listings.count availability.365\n",
              "1 6                              286             \n",
              "2 2                              228             \n",
              "3 1                              352             \n",
              "4 1                              322             \n",
              "5 1                              289             \n",
              "6 1                              374             \n",
              "  house_rules                                                                                                                                                                                                                                                                                                                                                                                                        \n",
              "1 Clean up and treat the home the way you'd like your home to be treated.  No smoking.                                                                                                                                                                                                                                                                                                                               \n",
              "2 Pet friendly but please confirm with me if the pet you are planning on bringing with you is OK. I have a cute and quiet mixed chihuahua. I could accept more guests (for an extra fee) but this also needs to be confirmed beforehand. Also friends traveling together could sleep in separate beds for an extra fee (the second bed is either a sofa bed or inflatable bed). Smoking is only allowed on the porch.\n",
              "3 I encourage you to use my kitchen, cooking and laundry facilities. There is no additional charge to use the washer/dryer in the basement.  No smoking, inside or outside. Come home as late as you want.  If you come home stumbling drunk, it's OK the first time. If you do it again, and you wake up me or the neighbors downstairs, we will be annoyed.  (Just so you know . . . )                             \n",
              "4                                                                                                                                                                                                                                                                                                                                                                                                                    \n",
              "5 Please no smoking in the house, porch or on the property (you can go to the nearby corner).  Reasonable quiet after 10:30 pm.  Please remove shoes in the house.                                                                                                                                                                                                                                                   \n",
              "6 No smoking, please, and no drugs.                                                                                                                                                                                                                                                                                                                                                                                  \n",
              "  license\n",
              "1        \n",
              "2        \n",
              "3        \n",
              "4        \n",
              "5        \n",
              "6        "
            ]
          },
          "metadata": {}
        }
      ],
      "source": [
        "df = read.csv('Airbnb_Open_Data.csv')\n",
        "head(df)"
      ]
    },
    {
      "cell_type": "markdown",
      "source": [
        "##Data Cleaning\n",
        "###Firstly, we looked at how many NA values each column had"
      ],
      "metadata": {
        "id": "eoZCMche5YLN"
      }
    },
    {
      "cell_type": "code",
      "source": [
        "df %>% is.na %>% colSums %>% as.data.frame"
      ],
      "metadata": {
        "colab": {
          "base_uri": "https://localhost:8080/",
          "height": 913
        },
        "id": "eRqWlJ0r67OQ",
        "outputId": "397f1f9b-3b7b-4b7f-bf4e-99450b937f0c"
      },
      "execution_count": null,
      "outputs": [
        {
          "output_type": "display_data",
          "data": {
            "text/html": [
              "<table class=\"dataframe\">\n",
              "<caption>A data.frame: 26 × 1</caption>\n",
              "<thead>\n",
              "\t<tr><th></th><th scope=col>.</th></tr>\n",
              "\t<tr><th></th><th scope=col>&lt;dbl&gt;</th></tr>\n",
              "</thead>\n",
              "<tbody>\n",
              "\t<tr><th scope=row>id</th><td>    0</td></tr>\n",
              "\t<tr><th scope=row>NAME</th><td>    0</td></tr>\n",
              "\t<tr><th scope=row>host.id</th><td>    0</td></tr>\n",
              "\t<tr><th scope=row>host_identity_verified</th><td>    0</td></tr>\n",
              "\t<tr><th scope=row>host.name</th><td>    0</td></tr>\n",
              "\t<tr><th scope=row>neighbourhood.group</th><td>    0</td></tr>\n",
              "\t<tr><th scope=row>neighbourhood</th><td>    0</td></tr>\n",
              "\t<tr><th scope=row>lat</th><td>    8</td></tr>\n",
              "\t<tr><th scope=row>long</th><td>    8</td></tr>\n",
              "\t<tr><th scope=row>country</th><td>    0</td></tr>\n",
              "\t<tr><th scope=row>country.code</th><td>    0</td></tr>\n",
              "\t<tr><th scope=row>instant_bookable</th><td>  105</td></tr>\n",
              "\t<tr><th scope=row>cancellation_policy</th><td>    0</td></tr>\n",
              "\t<tr><th scope=row>room.type</th><td>    0</td></tr>\n",
              "\t<tr><th scope=row>Construction.year</th><td>  214</td></tr>\n",
              "\t<tr><th scope=row>price</th><td>    0</td></tr>\n",
              "\t<tr><th scope=row>service.fee</th><td>    0</td></tr>\n",
              "\t<tr><th scope=row>minimum.nights</th><td>  409</td></tr>\n",
              "\t<tr><th scope=row>number.of.reviews</th><td>  183</td></tr>\n",
              "\t<tr><th scope=row>last.review</th><td>    0</td></tr>\n",
              "\t<tr><th scope=row>reviews.per.month</th><td>15879</td></tr>\n",
              "\t<tr><th scope=row>review.rate.number</th><td>  326</td></tr>\n",
              "\t<tr><th scope=row>calculated.host.listings.count</th><td>  319</td></tr>\n",
              "\t<tr><th scope=row>availability.365</th><td>  448</td></tr>\n",
              "\t<tr><th scope=row>house_rules</th><td>    0</td></tr>\n",
              "\t<tr><th scope=row>license</th><td>    0</td></tr>\n",
              "</tbody>\n",
              "</table>\n"
            ],
            "text/markdown": "\nA data.frame: 26 × 1\n\n| <!--/--> | . &lt;dbl&gt; |\n|---|---|\n| id |     0 |\n| NAME |     0 |\n| host.id |     0 |\n| host_identity_verified |     0 |\n| host.name |     0 |\n| neighbourhood.group |     0 |\n| neighbourhood |     0 |\n| lat |     8 |\n| long |     8 |\n| country |     0 |\n| country.code |     0 |\n| instant_bookable |   105 |\n| cancellation_policy |     0 |\n| room.type |     0 |\n| Construction.year |   214 |\n| price |     0 |\n| service.fee |     0 |\n| minimum.nights |   409 |\n| number.of.reviews |   183 |\n| last.review |     0 |\n| reviews.per.month | 15879 |\n| review.rate.number |   326 |\n| calculated.host.listings.count |   319 |\n| availability.365 |   448 |\n| house_rules |     0 |\n| license |     0 |\n\n",
            "text/latex": "A data.frame: 26 × 1\n\\begin{tabular}{r|l}\n  & .\\\\\n  & <dbl>\\\\\n\\hline\n\tid &     0\\\\\n\tNAME &     0\\\\\n\thost.id &     0\\\\\n\thost\\_identity\\_verified &     0\\\\\n\thost.name &     0\\\\\n\tneighbourhood.group &     0\\\\\n\tneighbourhood &     0\\\\\n\tlat &     8\\\\\n\tlong &     8\\\\\n\tcountry &     0\\\\\n\tcountry.code &     0\\\\\n\tinstant\\_bookable &   105\\\\\n\tcancellation\\_policy &     0\\\\\n\troom.type &     0\\\\\n\tConstruction.year &   214\\\\\n\tprice &     0\\\\\n\tservice.fee &     0\\\\\n\tminimum.nights &   409\\\\\n\tnumber.of.reviews &   183\\\\\n\tlast.review &     0\\\\\n\treviews.per.month & 15879\\\\\n\treview.rate.number &   326\\\\\n\tcalculated.host.listings.count &   319\\\\\n\tavailability.365 &   448\\\\\n\thouse\\_rules &     0\\\\\n\tlicense &     0\\\\\n\\end{tabular}\n",
            "text/plain": [
              "                               .    \n",
              "id                                 0\n",
              "NAME                               0\n",
              "host.id                            0\n",
              "host_identity_verified             0\n",
              "host.name                          0\n",
              "neighbourhood.group                0\n",
              "neighbourhood                      0\n",
              "lat                                8\n",
              "long                               8\n",
              "country                            0\n",
              "country.code                       0\n",
              "instant_bookable                 105\n",
              "cancellation_policy                0\n",
              "room.type                          0\n",
              "Construction.year                214\n",
              "price                              0\n",
              "service.fee                        0\n",
              "minimum.nights                   409\n",
              "number.of.reviews                183\n",
              "last.review                        0\n",
              "reviews.per.month              15879\n",
              "review.rate.number               326\n",
              "calculated.host.listings.count   319\n",
              "availability.365                 448\n",
              "house_rules                        0\n",
              "license                            0"
            ]
          },
          "metadata": {}
        }
      ]
    },
    {
      "cell_type": "markdown",
      "source": [
        "##Stripped the dollar sign off the price columns and converted it into numeric value\n",
        "\n"
      ],
      "metadata": {
        "id": "vlU-9hjZ5mlf"
      }
    },
    {
      "cell_type": "code",
      "source": [
        "df$price_cleaned = gsub(\"\\\\$\", \"\", df$price)\n",
        "df$price_cleaned = gsub(\",\", \"\", df$price_cleaned)\n",
        "df$price_numeric = as.numeric(df$price_cleaned)"
      ],
      "metadata": {
        "id": "h_B4T_G87iD5"
      },
      "execution_count": null,
      "outputs": []
    },
    {
      "cell_type": "markdown",
      "source": [
        "###247 values remained unconverted so we dropped those\n"
      ],
      "metadata": {
        "id": "qwg_95Vf5zJr"
      }
    },
    {
      "cell_type": "code",
      "source": [
        "df$price_numeric %>% is.na %>% sum"
      ],
      "metadata": {
        "id": "zRpcf3BPGk3u",
        "colab": {
          "base_uri": "https://localhost:8080/",
          "height": 34
        },
        "outputId": "201e0c39-5342-4181-e350-5cbfa65e66fb"
      },
      "execution_count": null,
      "outputs": [
        {
          "output_type": "display_data",
          "data": {
            "text/html": [
              "247"
            ],
            "text/markdown": "247",
            "text/latex": "247",
            "text/plain": [
              "[1] 247"
            ]
          },
          "metadata": {}
        }
      ]
    },
    {
      "cell_type": "code",
      "source": [
        "df[is.na(df$price_numeric), 'price'] %>% table"
      ],
      "metadata": {
        "colab": {
          "base_uri": "https://localhost:8080/",
          "height": 69
        },
        "id": "4A-JjKvR74Es",
        "outputId": "51f196bc-8b9c-400a-e957-18ef52d21795"
      },
      "execution_count": null,
      "outputs": [
        {
          "output_type": "display_data",
          "data": {
            "text/plain": [
              ".\n",
              "    \n",
              "247 "
            ]
          },
          "metadata": {}
        }
      ]
    },
    {
      "cell_type": "code",
      "source": [
        "df = df[!is.na(df$price_numeric), ]"
      ],
      "metadata": {
        "id": "4TJdBABq79as"
      },
      "execution_count": null,
      "outputs": []
    },
    {
      "cell_type": "code",
      "source": [
        "df$price = df$price_numeric\n",
        "df$price_numeric = NULL"
      ],
      "metadata": {
        "id": "OEOVsw4xNWEc"
      },
      "execution_count": null,
      "outputs": []
    },
    {
      "cell_type": "code",
      "source": [
        "names(df)"
      ],
      "metadata": {
        "colab": {
          "base_uri": "https://localhost:8080/",
          "height": 86
        },
        "id": "C4E-Lfl-XFBS",
        "outputId": "2c0b3440-8ce0-46c1-bfee-8660d106fb65"
      },
      "execution_count": null,
      "outputs": [
        {
          "output_type": "display_data",
          "data": {
            "text/html": [
              "<style>\n",
              ".list-inline {list-style: none; margin:0; padding: 0}\n",
              ".list-inline>li {display: inline-block}\n",
              ".list-inline>li:not(:last-child)::after {content: \"\\00b7\"; padding: 0 .5ex}\n",
              "</style>\n",
              "<ol class=list-inline><li>'id'</li><li>'NAME'</li><li>'host.id'</li><li>'host_identity_verified'</li><li>'host.name'</li><li>'neighbourhood.group'</li><li>'neighbourhood'</li><li>'lat'</li><li>'long'</li><li>'country'</li><li>'country.code'</li><li>'instant_bookable'</li><li>'cancellation_policy'</li><li>'room.type'</li><li>'Construction.year'</li><li>'price'</li><li>'service.fee'</li><li>'minimum.nights'</li><li>'number.of.reviews'</li><li>'last.review'</li><li>'reviews.per.month'</li><li>'review.rate.number'</li><li>'calculated.host.listings.count'</li><li>'availability.365'</li><li>'house_rules'</li><li>'license'</li></ol>\n"
            ],
            "text/markdown": "1. 'id'\n2. 'NAME'\n3. 'host.id'\n4. 'host_identity_verified'\n5. 'host.name'\n6. 'neighbourhood.group'\n7. 'neighbourhood'\n8. 'lat'\n9. 'long'\n10. 'country'\n11. 'country.code'\n12. 'instant_bookable'\n13. 'cancellation_policy'\n14. 'room.type'\n15. 'Construction.year'\n16. 'price'\n17. 'service.fee'\n18. 'minimum.nights'\n19. 'number.of.reviews'\n20. 'last.review'\n21. 'reviews.per.month'\n22. 'review.rate.number'\n23. 'calculated.host.listings.count'\n24. 'availability.365'\n25. 'house_rules'\n26. 'license'\n\n\n",
            "text/latex": "\\begin{enumerate*}\n\\item 'id'\n\\item 'NAME'\n\\item 'host.id'\n\\item 'host\\_identity\\_verified'\n\\item 'host.name'\n\\item 'neighbourhood.group'\n\\item 'neighbourhood'\n\\item 'lat'\n\\item 'long'\n\\item 'country'\n\\item 'country.code'\n\\item 'instant\\_bookable'\n\\item 'cancellation\\_policy'\n\\item 'room.type'\n\\item 'Construction.year'\n\\item 'price'\n\\item 'service.fee'\n\\item 'minimum.nights'\n\\item 'number.of.reviews'\n\\item 'last.review'\n\\item 'reviews.per.month'\n\\item 'review.rate.number'\n\\item 'calculated.host.listings.count'\n\\item 'availability.365'\n\\item 'house\\_rules'\n\\item 'license'\n\\end{enumerate*}\n",
            "text/plain": [
              " [1] \"id\"                             \"NAME\"                          \n",
              " [3] \"host.id\"                        \"host_identity_verified\"        \n",
              " [5] \"host.name\"                      \"neighbourhood.group\"           \n",
              " [7] \"neighbourhood\"                  \"lat\"                           \n",
              " [9] \"long\"                           \"country\"                       \n",
              "[11] \"country.code\"                   \"instant_bookable\"              \n",
              "[13] \"cancellation_policy\"            \"room.type\"                     \n",
              "[15] \"Construction.year\"              \"price\"                         \n",
              "[17] \"service.fee\"                    \"minimum.nights\"                \n",
              "[19] \"number.of.reviews\"              \"last.review\"                   \n",
              "[21] \"reviews.per.month\"              \"review.rate.number\"            \n",
              "[23] \"calculated.host.listings.count\" \"availability.365\"              \n",
              "[25] \"house_rules\"                    \"license\"                       "
            ]
          },
          "metadata": {}
        }
      ]
    },
    {
      "cell_type": "markdown",
      "source": [
        "##Count of Neighborhood Group\n",
        "### First we had to correct the mistyped values of \"manhatan\" and \"brookln\" to match the correct spelling. We also made the blank values have a \"-\" name. Then we could show the amount of AirBnBs in each neighborhood group\n",
        "\n"
      ],
      "metadata": {
        "id": "JXbLQXE7xTQU"
      }
    },
    {
      "cell_type": "code",
      "source": [
        "table(df$neighbourhood.group)"
      ],
      "metadata": {
        "colab": {
          "base_uri": "https://localhost:8080/",
          "height": 104
        },
        "id": "pC7dD3NdYuax",
        "outputId": "38a68627-24a5-4b95-ae39-c87414a87b01"
      },
      "execution_count": null,
      "outputs": [
        {
          "output_type": "display_data",
          "data": {
            "text/plain": [
              "\n",
              "                      Bronx       brookln      Brooklyn      manhatan \n",
              "           28          2705             1         41749             1 \n",
              "    Manhattan        Queens Staten Island \n",
              "        43682         13234           952 "
            ]
          },
          "metadata": {}
        }
      ]
    },
    {
      "cell_type": "code",
      "source": [
        "df[df$neighbourhood.group == \"manhatan\", 'neighbourhood.group'] = \"Manhattan\"\n",
        "df[df$neighbourhood.group == \"brookln\", 'neighbourhood.group'] = \"Brooklyn\"\n",
        "df[df$neighbourhood.group == \"\", 'neighbourhood.group'] = \"-\"\n"
      ],
      "metadata": {
        "id": "U4l6JmFSZuPy"
      },
      "execution_count": null,
      "outputs": []
    },
    {
      "cell_type": "code",
      "source": [
        "table(df$neighbourhood.group)"
      ],
      "metadata": {
        "id": "m33JNAVDbp8T",
        "colab": {
          "base_uri": "https://localhost:8080/",
          "height": 104
        },
        "outputId": "eaf0ec24-e9e7-474c-c6bf-39fa3de5a862"
      },
      "execution_count": null,
      "outputs": [
        {
          "output_type": "display_data",
          "data": {
            "text/plain": [
              "\n",
              "            -         Bronx      Brooklyn     Manhattan        Queens \n",
              "           28          2705         41750         43683         13234 \n",
              "Staten Island \n",
              "          952 "
            ]
          },
          "metadata": {}
        }
      ]
    },
    {
      "cell_type": "markdown",
      "source": [
        "##Averages\n",
        "### Here the room types and the locations of the AirBnBs are grouped and their averages are calculated. After cleaning up the price column by stripping away the dollar and comma, as well as geetting rid of null values, we can compute this average.\n",
        "\n"
      ],
      "metadata": {
        "id": "fWYsc4_xwV__"
      }
    },
    {
      "cell_type": "code",
      "source": [
        "df %>% \n",
        "  group_by(neighbourhood.group, room.type) %>% \n",
        "  summarise(mean(price))"
      ],
      "metadata": {
        "colab": {
          "base_uri": "https://localhost:8080/",
          "height": 760
        },
        "id": "0LUWKYLh87sJ",
        "outputId": "c9aa937d-fded-4723-d99f-b77f10589e9a"
      },
      "execution_count": null,
      "outputs": [
        {
          "output_type": "stream",
          "name": "stderr",
          "text": [
            "\u001b[1m\u001b[22m`summarise()` has grouped output by 'neighbourhood.group'. You can override\n",
            "using the `.groups` argument.\n"
          ]
        },
        {
          "output_type": "display_data",
          "data": {
            "text/html": [
              "<table class=\"dataframe\">\n",
              "<caption>A grouped_df: 20 × 3</caption>\n",
              "<thead>\n",
              "\t<tr><th scope=col>neighbourhood.group</th><th scope=col>room.type</th><th scope=col>mean(price)</th></tr>\n",
              "\t<tr><th scope=col>&lt;chr&gt;</th><th scope=col>&lt;chr&gt;</th><th scope=col>&lt;dbl&gt;</th></tr>\n",
              "</thead>\n",
              "<tbody>\n",
              "\t<tr><td>-            </td><td>Entire home/apt</td><td>692.8000</td></tr>\n",
              "\t<tr><td>-            </td><td>Private room   </td><td>639.2222</td></tr>\n",
              "\t<tr><td>Bronx        </td><td>Entire home/apt</td><td>620.2326</td></tr>\n",
              "\t<tr><td>Bronx        </td><td>Private room   </td><td>634.7106</td></tr>\n",
              "\t<tr><td>Bronx        </td><td>Shared room    </td><td>600.2564</td></tr>\n",
              "\t<tr><td>Brooklyn     </td><td>Entire home/apt</td><td>626.8964</td></tr>\n",
              "\t<tr><td>Brooklyn     </td><td>Hotel room     </td><td>736.1250</td></tr>\n",
              "\t<tr><td>Brooklyn     </td><td>Private room   </td><td>625.8685</td></tr>\n",
              "\t<tr><td>Brooklyn     </td><td>Shared room    </td><td>634.3171</td></tr>\n",
              "\t<tr><td>Manhattan    </td><td>Entire home/apt</td><td>623.1476</td></tr>\n",
              "\t<tr><td>Manhattan    </td><td>Hotel room     </td><td>681.8700</td></tr>\n",
              "\t<tr><td>Manhattan    </td><td>Private room   </td><td>620.3580</td></tr>\n",
              "\t<tr><td>Manhattan    </td><td>Shared room    </td><td>632.5221</td></tr>\n",
              "\t<tr><td>Queens       </td><td>Entire home/apt</td><td>627.0304</td></tr>\n",
              "\t<tr><td>Queens       </td><td>Hotel room     </td><td>433.2500</td></tr>\n",
              "\t<tr><td>Queens       </td><td>Private room   </td><td>631.8140</td></tr>\n",
              "\t<tr><td>Queens       </td><td>Shared room    </td><td>645.3066</td></tr>\n",
              "\t<tr><td>Staten Island</td><td>Entire home/apt</td><td>642.1924</td></tr>\n",
              "\t<tr><td>Staten Island</td><td>Private room   </td><td>603.5000</td></tr>\n",
              "\t<tr><td>Staten Island</td><td>Shared room    </td><td>715.6000</td></tr>\n",
              "</tbody>\n",
              "</table>\n"
            ],
            "text/markdown": "\nA grouped_df: 20 × 3\n\n| neighbourhood.group &lt;chr&gt; | room.type &lt;chr&gt; | mean(price) &lt;dbl&gt; |\n|---|---|---|\n| -             | Entire home/apt | 692.8000 |\n| -             | Private room    | 639.2222 |\n| Bronx         | Entire home/apt | 620.2326 |\n| Bronx         | Private room    | 634.7106 |\n| Bronx         | Shared room     | 600.2564 |\n| Brooklyn      | Entire home/apt | 626.8964 |\n| Brooklyn      | Hotel room      | 736.1250 |\n| Brooklyn      | Private room    | 625.8685 |\n| Brooklyn      | Shared room     | 634.3171 |\n| Manhattan     | Entire home/apt | 623.1476 |\n| Manhattan     | Hotel room      | 681.8700 |\n| Manhattan     | Private room    | 620.3580 |\n| Manhattan     | Shared room     | 632.5221 |\n| Queens        | Entire home/apt | 627.0304 |\n| Queens        | Hotel room      | 433.2500 |\n| Queens        | Private room    | 631.8140 |\n| Queens        | Shared room     | 645.3066 |\n| Staten Island | Entire home/apt | 642.1924 |\n| Staten Island | Private room    | 603.5000 |\n| Staten Island | Shared room     | 715.6000 |\n\n",
            "text/latex": "A grouped\\_df: 20 × 3\n\\begin{tabular}{lll}\n neighbourhood.group & room.type & mean(price)\\\\\n <chr> & <chr> & <dbl>\\\\\n\\hline\n\t -             & Entire home/apt & 692.8000\\\\\n\t -             & Private room    & 639.2222\\\\\n\t Bronx         & Entire home/apt & 620.2326\\\\\n\t Bronx         & Private room    & 634.7106\\\\\n\t Bronx         & Shared room     & 600.2564\\\\\n\t Brooklyn      & Entire home/apt & 626.8964\\\\\n\t Brooklyn      & Hotel room      & 736.1250\\\\\n\t Brooklyn      & Private room    & 625.8685\\\\\n\t Brooklyn      & Shared room     & 634.3171\\\\\n\t Manhattan     & Entire home/apt & 623.1476\\\\\n\t Manhattan     & Hotel room      & 681.8700\\\\\n\t Manhattan     & Private room    & 620.3580\\\\\n\t Manhattan     & Shared room     & 632.5221\\\\\n\t Queens        & Entire home/apt & 627.0304\\\\\n\t Queens        & Hotel room      & 433.2500\\\\\n\t Queens        & Private room    & 631.8140\\\\\n\t Queens        & Shared room     & 645.3066\\\\\n\t Staten Island & Entire home/apt & 642.1924\\\\\n\t Staten Island & Private room    & 603.5000\\\\\n\t Staten Island & Shared room     & 715.6000\\\\\n\\end{tabular}\n",
            "text/plain": [
              "   neighbourhood.group room.type       mean(price)\n",
              "1  -                   Entire home/apt 692.8000   \n",
              "2  -                   Private room    639.2222   \n",
              "3  Bronx               Entire home/apt 620.2326   \n",
              "4  Bronx               Private room    634.7106   \n",
              "5  Bronx               Shared room     600.2564   \n",
              "6  Brooklyn            Entire home/apt 626.8964   \n",
              "7  Brooklyn            Hotel room      736.1250   \n",
              "8  Brooklyn            Private room    625.8685   \n",
              "9  Brooklyn            Shared room     634.3171   \n",
              "10 Manhattan           Entire home/apt 623.1476   \n",
              "11 Manhattan           Hotel room      681.8700   \n",
              "12 Manhattan           Private room    620.3580   \n",
              "13 Manhattan           Shared room     632.5221   \n",
              "14 Queens              Entire home/apt 627.0304   \n",
              "15 Queens              Hotel room      433.2500   \n",
              "16 Queens              Private room    631.8140   \n",
              "17 Queens              Shared room     645.3066   \n",
              "18 Staten Island       Entire home/apt 642.1924   \n",
              "19 Staten Island       Private room    603.5000   \n",
              "20 Staten Island       Shared room     715.6000   "
            ]
          },
          "metadata": {}
        }
      ]
    },
    {
      "cell_type": "code",
      "source": [
        "df %>% group_by(review.rate.number) %>% summarise(mean(price))"
      ],
      "metadata": {
        "colab": {
          "base_uri": "https://localhost:8080/",
          "height": 286
        },
        "id": "SNSrIMXIL8bh",
        "outputId": "0ed7f345-5df8-4b07-ef90-ff1304ad8bad"
      },
      "execution_count": null,
      "outputs": [
        {
          "output_type": "display_data",
          "data": {
            "text/html": [
              "<table class=\"dataframe\">\n",
              "<caption>A tibble: 6 × 2</caption>\n",
              "<thead>\n",
              "\t<tr><th scope=col>review.rate.number</th><th scope=col>mean(price)</th></tr>\n",
              "\t<tr><th scope=col>&lt;int&gt;</th><th scope=col>&lt;dbl&gt;</th></tr>\n",
              "</thead>\n",
              "<tbody>\n",
              "\t<tr><td> 1</td><td>519.6876</td></tr>\n",
              "\t<tr><td> 2</td><td>525.2879</td></tr>\n",
              "\t<tr><td> 3</td><td>523.5136</td></tr>\n",
              "\t<tr><td> 4</td><td>527.0568</td></tr>\n",
              "\t<tr><td> 5</td><td>525.2491</td></tr>\n",
              "\t<tr><td>NA</td><td>499.5240</td></tr>\n",
              "</tbody>\n",
              "</table>\n"
            ],
            "text/markdown": "\nA tibble: 6 × 2\n\n| review.rate.number &lt;int&gt; | mean(price) &lt;dbl&gt; |\n|---|---|\n|  1 | 519.6876 |\n|  2 | 525.2879 |\n|  3 | 523.5136 |\n|  4 | 527.0568 |\n|  5 | 525.2491 |\n| NA | 499.5240 |\n\n",
            "text/latex": "A tibble: 6 × 2\n\\begin{tabular}{ll}\n review.rate.number & mean(price)\\\\\n <int> & <dbl>\\\\\n\\hline\n\t  1 & 519.6876\\\\\n\t  2 & 525.2879\\\\\n\t  3 & 523.5136\\\\\n\t  4 & 527.0568\\\\\n\t  5 & 525.2491\\\\\n\t NA & 499.5240\\\\\n\\end{tabular}\n",
            "text/plain": [
              "  review.rate.number mean(price)\n",
              "1  1                 519.6876   \n",
              "2  2                 525.2879   \n",
              "3  3                 523.5136   \n",
              "4  4                 527.0568   \n",
              "5  5                 525.2491   \n",
              "6 NA                 499.5240   "
            ]
          },
          "metadata": {}
        }
      ]
    },
    {
      "cell_type": "code",
      "source": [
        "mean(df$price)\n"
      ],
      "metadata": {
        "colab": {
          "base_uri": "https://localhost:8080/",
          "height": 34
        },
        "id": "n8XHLsPXLJ-L",
        "outputId": "090f412c-a731-4e1d-894c-ba024e19fae2"
      },
      "execution_count": null,
      "outputs": [
        {
          "output_type": "display_data",
          "data": {
            "text/html": [
              "524.702447631115"
            ],
            "text/markdown": "524.702447631115",
            "text/latex": "524.702447631115",
            "text/plain": [
              "[1] 524.7024"
            ]
          },
          "metadata": {}
        }
      ]
    },
    {
      "cell_type": "markdown",
      "source": [
        "##House rules\n",
        "### We added 2 columns to the data frame that will tell us if the smoking and pets are allowed in the airbnb. We will use grep function to select all the rows (airbnb listings) in the data frame that contain \"no smoking\" and \"no pets\" in their house rules. Then we set those rows as a 1 to represent that in those airbnbs, pets and smoking are not allowed. In case they are allowed, 0 was assigned.\n",
        "\n"
      ],
      "metadata": {
        "id": "KeLt9rTwt29X"
      }
    },
    {
      "cell_type": "code",
      "source": [
        "df$no_smoking=NA\n",
        "df$no_pets=NA\n",
        "df[grep(\"no smoking\",df$house_rules),\"no_smoking\"]=1\n",
        "df[grep(\"no pets\",df$house_rules),\"no_pets\"] =1\n",
        "df<-df %>% \n",
        "  mutate_at(c('no_smoking','no_pets'), ~replace_na(.,0))\n",
        "\n",
        "write.csv(df,\"C:/Users/msoric/Downloads/Airbnb_clean_data.csv\")\n"
      ],
      "metadata": {
        "id": "2zRlKibRtCCK"
      },
      "execution_count": null,
      "outputs": []
    },
    {
      "cell_type": "markdown",
      "source": [
        "The updated data frame was exported and used in Tableu for further analysis. \n"
      ],
      "metadata": {
        "id": "9aMJWMicukwN"
      }
    }
  ]
}